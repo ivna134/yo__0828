{
 "cells": [
  {
   "cell_type": "code",
   "execution_count": 1,
   "metadata": {},
   "outputs": [],
   "source": [
    "import random\n",
    "\n",
    "def generate_stu()->list[int]:\n",
    "    scores = []\n",
    "    for _ in range(5):\n",
    "        scores.append(random.randint(50,100))\n",
    "    return scores\n",
    "\n",
    "def getNames(num:int) -> list[str]:\n",
    "    with open(\"names.txt\",encoding=\"utf-8\") as file:\n",
    "        names = []\n",
    "        for name in file:\n",
    "            names.append(name.rstrip())\n",
    "    return random.choices(names,k=num)"
   ]
  },
  {
   "cell_type": "code",
   "execution_count": 3,
   "metadata": {},
   "outputs": [
    {
     "ename": "NameError",
     "evalue": "name 'pyip' is not defined",
     "output_type": "error",
     "traceback": [
      "\u001b[0;31m---------------------------------------------------------------------------\u001b[0m",
      "\u001b[0;31mNameError\u001b[0m                                 Traceback (most recent call last)",
      "\u001b[1;32m/workspaces/yo__0828/lesson9_1.ipynb 儲存格 2\u001b[0m line \u001b[0;36m1\n\u001b[0;32m----> <a href='vscode-notebook-cell://codespaces%2Bcurly-zebra-4j76g5rj4vww376v4/workspaces/yo__0828/lesson9_1.ipynb#W1sdnNjb2RlLXJlbW90ZQ%3D%3D?line=0'>1</a>\u001b[0m num \u001b[39m=\u001b[39m pyip\u001b[39m.\u001b[39minputInt(\u001b[39m'\u001b[39m\u001b[39m請輸入學生的人數:\u001b[39m\u001b[39m'\u001b[39m,\u001b[39mmin\u001b[39m\u001b[39m=\u001b[39m\u001b[39m5\u001b[39m,\u001b[39mmax\u001b[39m\u001b[39m=\u001b[39m\u001b[39m50\u001b[39m)\n\u001b[1;32m      <a href='vscode-notebook-cell://codespaces%2Bcurly-zebra-4j76g5rj4vww376v4/workspaces/yo__0828/lesson9_1.ipynb#W1sdnNjb2RlLXJlbW90ZQ%3D%3D?line=1'>2</a>\u001b[0m names \u001b[39m=\u001b[39m getNames(num\u001b[39m=\u001b[39mn)\n\u001b[1;32m      <a href='vscode-notebook-cell://codespaces%2Bcurly-zebra-4j76g5rj4vww376v4/workspaces/yo__0828/lesson9_1.ipynb#W1sdnNjb2RlLXJlbW90ZQ%3D%3D?line=2'>3</a>\u001b[0m students \u001b[39m=\u001b[39m []\n",
      "\u001b[0;31mNameError\u001b[0m: name 'pyip' is not defined"
     ]
    }
   ],
   "source": [
    "import pyinputplus as pyip\n",
    "\n",
    "num = pyip.inputInt('請輸入學生的人數:',min=5,max=50)\n",
    "names = getNames(num=n)\n",
    "students = []\n",
    "for i in range(num):\n",
    "    scores =  generate_stu()\n",
    "    scores.insert(0,names[i])\n",
    "    students.append(scores)\n",
    "\n",
    "students"
   ]
  }
 ],
 "metadata": {
  "kernelspec": {
   "display_name": "Python 3",
   "language": "python",
   "name": "python3"
  },
  "language_info": {
   "codemirror_mode": {
    "name": "ipython",
    "version": 3
   },
   "file_extension": ".py",
   "mimetype": "text/x-python",
   "name": "python",
   "nbconvert_exporter": "python",
   "pygments_lexer": "ipython3",
   "version": "3.10.12"
  },
  "orig_nbformat": 4
 },
 "nbformat": 4,
 "nbformat_minor": 2
}
