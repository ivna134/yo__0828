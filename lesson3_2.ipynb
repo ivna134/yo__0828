{
 "cells": [
  {
   "cell_type": "code",
   "execution_count": 1,
   "metadata": {},
   "outputs": [
    {
     "data": {
      "text/plain": [
       "5"
      ]
     },
     "execution_count": 1,
     "metadata": {},
     "output_type": "execute_result"
    }
   ],
   "source": [
    "n1 = 5\n",
    "\n",
    "n1 + 5\n",
    "\n",
    "n1"
   ]
  },
  {
   "cell_type": "code",
   "execution_count": 3,
   "metadata": {},
   "outputs": [
    {
     "data": {
      "text/plain": [
       "10"
      ]
     },
     "execution_count": 3,
     "metadata": {},
     "output_type": "execute_result"
    }
   ],
   "source": [
    "n2 = 5\n",
    "n2 = n2 +5\n",
    "\n",
    "n2"
   ]
  },
  {
   "cell_type": "code",
   "execution_count": 4,
   "metadata": {},
   "outputs": [
    {
     "data": {
      "text/plain": [
       "10"
      ]
     },
     "execution_count": 4,
     "metadata": {},
     "output_type": "execute_result"
    }
   ],
   "source": [
    "#複合指定運算子\n",
    "n3 = 5\n",
    "n3 +=5\n",
    "n3"
   ]
  },
  {
   "cell_type": "code",
   "execution_count": 5,
   "metadata": {},
   "outputs": [
    {
     "data": {
      "text/plain": [
       "100"
      ]
     },
     "execution_count": 5,
     "metadata": {},
     "output_type": "execute_result"
    }
   ],
   "source": [
    "n3 *= 10\n",
    "n3"
   ]
  },
  {
   "cell_type": "code",
   "execution_count": 6,
   "metadata": {},
   "outputs": [
    {
     "data": {
      "text/plain": [
       "50.0"
      ]
     },
     "execution_count": 6,
     "metadata": {},
     "output_type": "execute_result"
    }
   ],
   "source": [
    "n3 /= 2\n",
    "n3"
   ]
  },
  {
   "cell_type": "code",
   "execution_count": 7,
   "metadata": {},
   "outputs": [
    {
     "data": {
      "text/plain": [
       "'snape'"
      ]
     },
     "metadata": {},
     "output_type": "display_data"
    }
   ],
   "source": [
    "#顯示格式(預設)\n",
    "display('snape')"
   ]
  },
  {
   "cell_type": "code",
   "execution_count": 8,
   "metadata": {},
   "outputs": [
    {
     "name": "stdout",
     "output_type": "stream",
     "text": [
      "snape\n"
     ]
    }
   ],
   "source": [
    "print('snape')"
   ]
  },
  {
   "cell_type": "code",
   "execution_count": 9,
   "metadata": {},
   "outputs": [
    {
     "name": "stdout",
     "output_type": "stream",
     "text": [
      "hey,\" i am nora\n"
     ]
    }
   ],
   "source": [
    "print('hey,\" i am nora')"
   ]
  },
  {
   "cell_type": "code",
   "execution_count": 10,
   "metadata": {},
   "outputs": [
    {
     "name": "stdout",
     "output_type": "stream",
     "text": [
      "hey,'i am nora\n"
     ]
    }
   ],
   "source": [
    "print(\"hey,'i am nora\")"
   ]
  },
  {
   "cell_type": "code",
   "execution_count": 16,
   "metadata": {},
   "outputs": [
    {
     "name": "stdout",
     "output_type": "stream",
     "text": [
      "hey,\"i am nora\n"
     ]
    }
   ],
   "source": [
    "#特殊字元\n",
    "print(\"hey,\\\"i am nora\")"
   ]
  },
  {
   "cell_type": "code",
   "execution_count": 19,
   "metadata": {},
   "outputs": [
    {
     "name": "stdout",
     "output_type": "stream",
     "text": [
      "hey,'i am nora\n"
     ]
    }
   ],
   "source": [
    "#特殊字元\n",
    "print('hey,\\'i am nora')"
   ]
  },
  {
   "cell_type": "code",
   "execution_count": 44,
   "metadata": {},
   "outputs": [
    {
     "name": "stdout",
     "output_type": "stream",
     "text": [
      "您好:\n",
      " 柯乃心\t晚安\n"
     ]
    }
   ],
   "source": [
    "#\\n 空行 \n",
    "#\\t 空格(tab)\n",
    "print(\"您好:\\n 柯乃心\\t晚安\")"
   ]
  },
  {
   "cell_type": "code",
   "execution_count": 43,
   "metadata": {},
   "outputs": [
    {
     "name": "stdout",
     "output_type": "stream",
     "text": [
      "柯乃心您好:\n",
      "您有預約15:45歐俊佑醫師的門診\t請於看診時間提早10分鐘報到\n"
     ]
    }
   ],
   "source": [
    "print(\"柯乃心您好:\\n您有預約15:45歐俊佑醫師的門診\\t請於看診時間提早10分鐘報到\")"
   ]
  },
  {
   "cell_type": "code",
   "execution_count": 1,
   "metadata": {},
   "outputs": [
    {
     "data": {
      "text/plain": [
       "'Apple Arcade 推出的最新遊戲《Next Stop Nowhere》，由位於洛杉磯的開發商 Night School Studio 出品。這款遊戲是太空公路之旅的夥伴冒險，其中不同角色間展開了一些精彩的劇情。在銀河系的外圍，每個人和所有事物之間都有充分的空間，Night School 希望這款遊戲可為近來可能感到孤立的玩家提供一些慰藉。'"
      ]
     },
     "execution_count": 1,
     "metadata": {},
     "output_type": "execute_result"
    }
   ],
   "source": [
    "#單行文字 \\\n",
    "poem = \"Apple Arcade 推出的最新遊戲《Next Stop Nowhere》，由位於洛杉磯的開發商 Night School Studio 出品。\\\n",
    "這款遊戲是太空公路之旅的夥伴冒險，其中不同角色間展開了一些精彩的劇情。\\\n",
    "在銀河系的外圍，每個人和所有事物之間都有充分的空間，Night School 希望這款遊戲可為近來可能感到孤立的玩家提供一些慰藉。\"\n",
    "\n",
    "poem"
   ]
  },
  {
   "cell_type": "code",
   "execution_count": 5,
   "metadata": {},
   "outputs": [
    {
     "ename": "SyntaxError",
     "evalue": "unterminated string literal (detected at line 2) (1226097382.py, line 2)",
     "output_type": "error",
     "traceback": [
      "\u001b[0;36m  Cell \u001b[0;32mIn[5], line 2\u001b[0;36m\u001b[0m\n\u001b[0;31m    poem1 = \"Apple Arcade 推出的最新遊戲《Next Stop Nowhere》， \\n由位於洛杉磯的開發商 Night School Studio 出品。\u001b[0m\n\u001b[0m            ^\u001b[0m\n\u001b[0;31mSyntaxError\u001b[0m\u001b[0;31m:\u001b[0m unterminated string literal (detected at line 2)\n"
     ]
    }
   ],
   "source": [
    "#多行文字 \\n ?????\n",
    "poem1 = \"Apple Arcade 推出的最新遊戲《Next Stop Nowhere》， \\n由位於洛杉磯的開發商 Night School Studio 出品。\n",
    "這款遊戲是太空公路之旅的夥伴冒險， \\n其中不同角色間展開了一些精彩的劇情。在銀河系的外圍，每個人和所有事物之間都有充分的空間，Night School 希望這款遊戲可為近來可能感到孤立的玩家提供一些慰藉。\"\n",
    "\n",
    "poem1"
   ]
  },
  {
   "cell_type": "code",
   "execution_count": 25,
   "metadata": {},
   "outputs": [
    {
     "name": "stdout",
     "output_type": "stream",
     "text": [
      "Apple Arcade 推出的最新遊戲《Next Stop Nowhere》，\n",
      "\n",
      "由位於洛杉磯的開發商 Night School Studio 出品。\n",
      "這款遊戲是太空公路之旅的夥伴冒險，\n",
      "其中不同角色間展開了一些精彩的劇情。\n",
      "在銀河系的外圍，每個人和所有事物之間都有充分的空間，\n",
      "Night School 希望這款遊戲可為近來可能感到孤立的玩家提供一些慰藉。\n",
      "\n"
     ]
    }
   ],
   "source": [
    "#多行文字 \"\"\" OR '''包圍前後，即可直接按Enter換行\n",
    "poem2 = \"\"\"Apple Arcade 推出的最新遊戲《Next Stop Nowhere》，\n",
    "\n",
    "由位於洛杉磯的開發商 Night School Studio 出品。\n",
    "這款遊戲是太空公路之旅的夥伴冒險，\n",
    "其中不同角色間展開了一些精彩的劇情。\n",
    "在銀河系的外圍，每個人和所有事物之間都有充分的空間，\n",
    "Night School 希望這款遊戲可為近來可能感到孤立的玩家提供一些慰藉。\n",
    "\"\"\"\n",
    "\n",
    "print(poem2)"
   ]
  },
  {
   "cell_type": "code",
   "execution_count": 42,
   "metadata": {},
   "outputs": [
    {
     "name": "stdout",
     "output_type": "stream",
     "text": [
      "我是第1行\n",
      "我是第2行\n",
      "我是第3行\n",
      "\n"
     ]
    }
   ],
   "source": [
    "#字串可以相加的\n",
    "sentence = \"\"\n",
    "sentence += \"我是第1行\\n\"\n",
    "sentence += \"我是第2行\\n\"\n",
    "sentence += \"我是第3行\\n\"\n",
    "\n",
    "print(sentence)"
   ]
  },
  {
   "cell_type": "code",
   "execution_count": 46,
   "metadata": {},
   "outputs": [
    {
     "data": {
      "text/plain": [
       "True"
      ]
     },
     "metadata": {},
     "output_type": "display_data"
    },
    {
     "data": {
      "text/plain": [
       "bool"
      ]
     },
     "metadata": {},
     "output_type": "display_data"
    },
    {
     "data": {
      "text/plain": [
       "False"
      ]
     },
     "metadata": {},
     "output_type": "display_data"
    }
   ],
   "source": [
    "#布林運算(下面會顯示資料型別)\n",
    "isMan = True\n",
    "display(isMan)\n",
    "display(type(isMan))\n",
    "isMan = False\n",
    "display(isMan)"
   ]
  }
 ],
 "metadata": {
  "kernelspec": {
   "display_name": "Python 3",
   "language": "python",
   "name": "python3"
  },
  "language_info": {
   "codemirror_mode": {
    "name": "ipython",
    "version": 3
   },
   "file_extension": ".py",
   "mimetype": "text/x-python",
   "name": "python",
   "nbconvert_exporter": "python",
   "pygments_lexer": "ipython3",
   "version": "3.10.12"
  },
  "orig_nbformat": 4
 },
 "nbformat": 4,
 "nbformat_minor": 2
}
